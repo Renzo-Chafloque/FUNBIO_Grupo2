{
 "cells": [
  {
   "cell_type": "code",
   "execution_count": 6,
   "metadata": {},
   "outputs": [
    {
     "ename": "ModuleNotFoundError",
     "evalue": "No module named 'pandas'",
     "output_type": "error",
     "traceback": [
      "\u001b[1;31m---------------------------------------------------------------------------\u001b[0m",
      "\u001b[1;31mModuleNotFoundError\u001b[0m                       Traceback (most recent call last)",
      "\u001b[1;32mc:\\Users\\czair\\Downloads\\the-circor-digiscope-phonocardiogram-dataset-1.0.3\\the-circor-digiscope-phonocardiogram-dataset-1.0.3\\Organizador.ipynb Cell 1\u001b[0m line \u001b[0;36m1\n\u001b[1;32m----> <a href='vscode-notebook-cell:/c%3A/Users/czair/Downloads/the-circor-digiscope-phonocardiogram-dataset-1.0.3/the-circor-digiscope-phonocardiogram-dataset-1.0.3/Organizador.ipynb#W0sZmlsZQ%3D%3D?line=0'>1</a>\u001b[0m \u001b[39mimport\u001b[39;00m \u001b[39mpandas\u001b[39;00m \u001b[39mas\u001b[39;00m \u001b[39mpd\u001b[39;00m\n\u001b[0;32m      <a href='vscode-notebook-cell:/c%3A/Users/czair/Downloads/the-circor-digiscope-phonocardiogram-dataset-1.0.3/the-circor-digiscope-phonocardiogram-dataset-1.0.3/Organizador.ipynb#W0sZmlsZQ%3D%3D?line=1'>2</a>\u001b[0m \u001b[39mimport\u001b[39;00m \u001b[39mshutil\u001b[39;00m\n\u001b[0;32m      <a href='vscode-notebook-cell:/c%3A/Users/czair/Downloads/the-circor-digiscope-phonocardiogram-dataset-1.0.3/the-circor-digiscope-phonocardiogram-dataset-1.0.3/Organizador.ipynb#W0sZmlsZQ%3D%3D?line=2'>3</a>\u001b[0m \u001b[39mimport\u001b[39;00m \u001b[39mos\u001b[39;00m\n",
      "\u001b[1;31mModuleNotFoundError\u001b[0m: No module named 'pandas'"
     ]
    }
   ],
   "source": [
    "import pandas as pd\n",
    "import shutil\n",
    "import os\n",
    "\n",
    "# Leer el archivo CSV\n",
    "df = pd.read_csv('training_data.csv')\n",
    "\n",
    "# Crear las carpetas si no existen\n",
    "os.makedirs('AVN', exist_ok=True)\n",
    "os.makedirs('PVN', exist_ok=True)\n",
    "os.makedirs('TVN', exist_ok=True)\n",
    "os.makedirs('MVN', exist_ok=True)\n",
    "os.makedirs('AVA', exist_ok=True)\n",
    "os.makedirs('PVA', exist_ok=True)\n",
    "os.makedirs('TVA', exist_ok=True)\n",
    "os.makedirs('MVA', exist_ok=True)\n",
    "\n",
    "# Iterar sobre las filas del DataFrame\n",
    "for index, row in df.iterrows():\n",
    "    patient_id = str(row['Patient ID'])\n",
    "    recording_locations = row['Recording locations:'].split('+')\n",
    "    murmur_status = row['Murmur']\n",
    "    murmur_locations = row['Murmur locations']\n",
    "    Age = row['Age']\n",
    "    \n",
    "    # Intentar copiar el archivo\n",
    "    try:\n",
    "        # Solo si hay un murmullo presente en las ubicaciones especificadas y no es \"Unknown\"\n",
    "        if Age != \"infant\" and murmur_status == 'Present' and murmur_locations != 'nan' and murmur_locations != murmur_locations != 'Unknown' and 'AV' in murmur_locations:\n",
    "            for location in recording_locations:\n",
    "                source_path = os.path.join('training_data', f'{patient_id}_AV.wav') # Modificar AV por el tipo de ocultación requerrida\n",
    "                target_path = os.path.join('AVA', f'{patient_id}_AV.wav') # Cambiar AVN por la carpeta a usar y modificar AV por el tipo de ocultación requerrida\n",
    "                shutil.copy(source_path, target_path)\n",
    "\n",
    "        # Si no hay murmullo presente, no hay ubicaciones especificadas, o es \"Unknown\", copiar a murmur_absent\n",
    "        else:\n",
    "            for location in recording_locations:\n",
    "                source_path = os.path.join('training_data', f'{patient_id}_AV.wav') # Modificar AV por el tipo de ocultación requerrida\n",
    "                target_path = os.path.join('AVN', f'{patient_id}_AV.wav') # Cambiar AVN por la carpeta a usar y modificar AV por el tipo de ocultación requerrida\n",
    "                shutil.copy(source_path, target_path)\n",
    "    except FileNotFoundError:\n",
    "        print(f'El archivo {patient_id} no se encontró y se omitió.')\n",
    "        continue\n"
   ]
  },
  {
   "cell_type": "code",
   "execution_count": 2,
   "metadata": {},
   "outputs": [
    {
     "name": "stdout",
     "output_type": "stream",
     "text": [
      "Collecting pandas\n",
      "  Obtaining dependency information for pandas from https://files.pythonhosted.org/packages/df/92/a3fa053c74198f9f0224b2c04dc74f41d2e14e30329c082f7a657f9ca4c5/pandas-2.1.3-cp312-cp312-win_amd64.whl.metadata\n",
      "  Downloading pandas-2.1.3-cp312-cp312-win_amd64.whl.metadata (18 kB)\n",
      "Collecting numpy<2,>=1.26.0 (from pandas)\n",
      "  Obtaining dependency information for numpy<2,>=1.26.0 from https://files.pythonhosted.org/packages/32/95/908d0caa051beae4f7c77652dbbeb781e7b717f3040c5c5fcaed4d3ed08f/numpy-1.26.1-cp312-cp312-win_amd64.whl.metadata\n",
      "  Downloading numpy-1.26.1-cp312-cp312-win_amd64.whl.metadata (61 kB)\n",
      "     ---------------------------------------- 0.0/61.2 kB ? eta -:--:--\n",
      "     ------ --------------------------------- 10.2/61.2 kB ? eta -:--:--\n",
      "     ------------------------- ------------ 41.0/61.2 kB 653.6 kB/s eta 0:00:01\n",
      "     -------------------------------------- 61.2/61.2 kB 821.9 kB/s eta 0:00:00\n",
      "Collecting python-dateutil>=2.8.2 (from pandas)\n",
      "  Using cached python_dateutil-2.8.2-py2.py3-none-any.whl (247 kB)\n",
      "Collecting pytz>=2020.1 (from pandas)\n",
      "  Obtaining dependency information for pytz>=2020.1 from https://files.pythonhosted.org/packages/32/4d/aaf7eff5deb402fd9a24a1449a8119f00d74ae9c2efa79f8ef9994261fc2/pytz-2023.3.post1-py2.py3-none-any.whl.metadata\n",
      "  Downloading pytz-2023.3.post1-py2.py3-none-any.whl.metadata (22 kB)\n",
      "Collecting tzdata>=2022.1 (from pandas)\n",
      "  Downloading tzdata-2023.3-py2.py3-none-any.whl (341 kB)\n",
      "     ---------------------------------------- 0.0/341.8 kB ? eta -:--:--\n",
      "     ------------------------------------- 341.8/341.8 kB 10.7 MB/s eta 0:00:00\n",
      "Collecting six>=1.5 (from python-dateutil>=2.8.2->pandas)\n",
      "  Using cached six-1.16.0-py2.py3-none-any.whl (11 kB)\n",
      "Downloading pandas-2.1.3-cp312-cp312-win_amd64.whl (10.5 MB)\n",
      "   ---------------------------------------- 0.0/10.5 MB ? eta -:--:--\n",
      "   ---------- ----------------------------- 2.8/10.5 MB 90.2 MB/s eta 0:00:01\n",
      "   --------------------- ------------------ 5.7/10.5 MB 92.3 MB/s eta 0:00:01\n",
      "   --------------------- ------------------ 5.7/10.5 MB 92.3 MB/s eta 0:00:01\n",
      "   ---------------------------------------  10.3/10.5 MB 59.5 MB/s eta 0:00:01\n",
      "   ---------------------------------------- 10.5/10.5 MB 50.4 MB/s eta 0:00:00\n",
      "Downloading numpy-1.26.1-cp312-cp312-win_amd64.whl (15.5 MB)\n",
      "   ---------------------------------------- 0.0/15.5 MB ? eta -:--:--\n",
      "   --------- ------------------------------ 3.7/15.5 MB 79.3 MB/s eta 0:00:01\n",
      "   ---------------- ----------------------- 6.5/15.5 MB 69.5 MB/s eta 0:00:01\n",
      "   ------------------------ --------------- 9.5/15.5 MB 67.2 MB/s eta 0:00:01\n",
      "   ---------------------------------- ----- 13.4/15.5 MB 65.6 MB/s eta 0:00:01\n",
      "   ---------------------------------------  15.5/15.5 MB 72.6 MB/s eta 0:00:01\n",
      "   ---------------------------------------- 15.5/15.5 MB 54.7 MB/s eta 0:00:00\n",
      "Downloading pytz-2023.3.post1-py2.py3-none-any.whl (502 kB)\n",
      "   ---------------------------------------- 0.0/502.5 kB ? eta -:--:--\n",
      "   --------------------------------------- 502.5/502.5 kB 30.8 MB/s eta 0:00:00\n",
      "Installing collected packages: pytz, tzdata, six, numpy, python-dateutil, pandas\n",
      "Successfully installed numpy-1.26.1 pandas-2.1.3 python-dateutil-2.8.2 pytz-2023.3.post1 six-1.16.0 tzdata-2023.3\n"
     ]
    },
    {
     "name": "stderr",
     "output_type": "stream",
     "text": [
      "\n",
      "[notice] A new release of pip is available: 23.2.1 -> 23.3.1\n",
      "[notice] To update, run: C:\\Users\\czair\\AppData\\Local\\Programs\\Python\\Python312\\python.exe -m pip install --upgrade pip\n"
     ]
    }
   ],
   "source": [
    "!pip install pandas"
   ]
  }
 ],
 "metadata": {
  "kernelspec": {
   "display_name": "Python 3",
   "language": "python",
   "name": "python3"
  },
  "language_info": {
   "codemirror_mode": {
    "name": "ipython",
    "version": 3
   },
   "file_extension": ".py",
   "mimetype": "text/x-python",
   "name": "python",
   "nbconvert_exporter": "python",
   "pygments_lexer": "ipython3",
   "version": "3.10.2"
  }
 },
 "nbformat": 4,
 "nbformat_minor": 2
}
